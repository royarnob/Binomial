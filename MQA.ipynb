{
 "cells": [
  {
   "cell_type": "markdown",
   "metadata": {},
   "source": [
    "- Financial Mathematics Fundamentals\n",
    "- Pricing Commodities, Hedging Securities, & Managing Risk"
   ]
  },
  {
   "cell_type": "markdown",
   "metadata": {},
   "source": [
    "***Question 1.***\n",
    "\n",
    "What is the primary goal of developing a futures contract for the commodity coffee?\n",
    "\n",
    "\n",
    "***My Answer.*** To provide a standardized method for hedging against price fluctuations in the coffee market.\n",
    "\n",
    "\n",
    "Correct! The primary goal of developing a futures contract for coffee is to provide market participants, such as producers and traders, with a standardized tool to hedge against price fluctuations, thereby reducing their financial risk exposure in the volatile coffee market."
   ]
  },
  {
   "cell_type": "markdown",
   "metadata": {},
   "source": [
    "***Question 2.***\n",
    "What is the main driver behind the need for a futures contract in the coffee market?\n",
    "\n",
    "***My Answer.*** The unpredicatable nature of coffee price fluctuations.\n",
    "\n",
    "\n",
    "Correct! The main driver behind the need for a futures contract in the coffee market is the unpredictable nature of coffee price fluctuations, which can significantly impact the profitability of producers and traders. A futures contract provides a standardized mechanism for managing this price risk."
   ]
  },
  {
   "cell_type": "markdown",
   "metadata": {},
   "source": [
    "***"
   ]
  },
  {
   "cell_type": "markdown",
   "metadata": {},
   "source": [
    "#### **Task 1:** Financial Math Fundamentals and Team Structure\n",
    "\n",
    "#### Task Overview\n",
    "\n",
    "Welcome to Task 1! In this task, you will dive into the foundational principles of financial mathematics while gaining insights into the Citi Markets Quantitative Analysis business.\n",
    "\n",
    "**What you'll learn**\n",
    "- Key mathematical concepts essential for quantitative analysis in financial markets\n",
    "- Mathematical modeling techniques relevant to pricing commodities, structuring securities, and managing risk\n",
    "- Review essential calculus, linear algebra, and stochastic calculus for financial analysis\n",
    "- The structure and roles within Citi's Market Quants team\n",
    "\n",
    "\n",
    "**What you'll do**\n",
    "- Review foundational mathematical concepts such as calculus, linear algebra, and stochastic calculus, focusing on their applications in financial markets\n",
    "- Explore mathematical modeling techniques used in pricing commodities, structuring securities, and managing risk within Citi's MQA division\n",
    "- Understand various products/asset classes and their deliverable\n"
   ]
  },
  {
   "cell_type": "markdown",
   "metadata": {},
   "source": [
    "#### Let's get started"
   ]
  },
  {
   "cell_type": "markdown",
   "metadata": {},
   "source": [
    "#### Citi's Summer Analyst Program for MQA\n",
    "\n",
    "- **Financial Modeling**: Develop and implement models to price derivatives, optimize portfolios, and assess market risks.\n",
    "\n",
    "- **Risk Management**: Learn to identify, measure, and mitigate financial risks using quantitative methods.\n",
    "\n",
    "- **Cross-Team Collaboration**: Work alongside traders, risk managers, and other analysts to understand how quantitative analysis supports decision-making across different functions.\n",
    "\n",
    "- **Industry Exposure**: Attend workshops, seminars, and networking events with industry leaders and Citi executives, gaining valuable insights into market trends and career opportunities."
   ]
  },
  {
   "cell_type": "markdown",
   "metadata": {},
   "source": [
    "#### Introduction to Asset Classes\n",
    "\n",
    "**Types of Asset Classes:**\n",
    "\n",
    "**Equities**: Equities offers execution, liquidity and idea generation to our clients, focusing on trading a suite of products that span physical shares, ETFs, synthetic shares and baskets, options and other derivatives.\n",
    "\n",
    "**Cash Equities**: Enables access to markets through Citi’s framework of technology and trading services that extend across traditional sales traders, program trading and electronic trading capabilities.\n",
    "\n",
    "**Prime Services**: Provides cross asset class financing, securities lending, analytics, advisory, listed execution and derivatives clearing access to global markets.\n",
    "\n",
    "**Derivatives Markets**: Offers equity options, equity swaps, warrants, structured notes and futures on individual securities, as well as customized indices and baskets. Offers execution, liquidity and idea generation to our clients, focusing on trading a suite of products that span physical shares, ETFs, synthetic shares and baskets, options and other derivatives.\n",
    "\n",
    "**Commodities**: Commodities delivers customized, innovative solutions for clients, helping them manage uncertainty due to market volatility. The team’s state-of-the-art investment strategies help optimize our clients’ working capital and enable them to raise strategic financing. Our leading insights, strong market-making capabilities and global reach make us the counterparty of choice for clients looking to innovate in both physical and financial commodities.\n",
    "\n",
    "**FX**: Foreign Exchange seamlessly operates in 130 currencies and approximately 80 countries. With leading expertise and unique insight, the FX team positions clients to participate in markets across the world. Whether hedging currency cash flows, managing international investments or actively expressing market views our clients benefit from Citi’s unmatched geographic reach and coverage, industry-leading e-execution platforms and our comprehensive suite of risk management tools to fulfill all of their FX and market needs.\n",
    "\n",
    "**Rates**: Rates is a market maker in sovereign and agency securities, interest rate derivatives, structured notes and secured financing. We are a primary dealer in government securities across multiple jurisdictions and is a global liquidity provider across secondary markets. Derivatives trading platforms transact in linear and non-linear strategies, ranging from vanilla to customized products and support our clients in managing their interest-rate exposures or express market views.\n",
    "\n",
    "**Credit**: Global Spread Products provides capital to our clients through liquidity and innovative solutions across the credit, municipal and securitized markets. The group’s activities include origination, structuring, investing, lending and market making across products including corporate and emerging market bonds, asset backed and mortgage backed securities, collateralized loan obligations, municipal and agency securities, short term interest rate products, loans, letters of credit and derivative instruments. The team also provides underwriting, secondary trading, securitization, project financing, warehouse lending, commercial, residential and affordable housing financing."
   ]
  }
 ],
 "metadata": {
  "language_info": {
   "name": "python"
  }
 },
 "nbformat": 4,
 "nbformat_minor": 2
}
