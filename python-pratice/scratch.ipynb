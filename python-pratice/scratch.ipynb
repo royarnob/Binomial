{
 "cells": [
  {
   "cell_type": "code",
   "execution_count": 9,
   "id": "cf099128",
   "metadata": {},
   "outputs": [
    {
     "data": {
      "text/plain": [
       "-4"
      ]
     },
     "execution_count": 9,
     "metadata": {},
     "output_type": "execute_result"
    }
   ],
   "source": [
    "(-10) % -6"
   ]
  },
  {
   "cell_type": "code",
   "execution_count": 2,
   "id": "4fba9105",
   "metadata": {},
   "outputs": [
    {
     "data": {
      "text/plain": [
       "0"
      ]
     },
     "execution_count": 2,
     "metadata": {},
     "output_type": "execute_result"
    }
   ],
   "source": [
    "4 % 2"
   ]
  },
  {
   "cell_type": "code",
   "execution_count": 3,
   "id": "1d409472",
   "metadata": {},
   "outputs": [
    {
     "name": "stdout",
     "output_type": "stream",
     "text": [
      "0\n",
      "2\n",
      "1\n",
      "2\n",
      "True\n",
      "False\n",
      "0.30000000000000004\n",
      "5.551115123125783e-17\n",
      "True\n",
      "True\n"
     ]
    }
   ],
   "source": [
    "# There are a few functions from modules you'll definitely want to use in the assignments\n",
    "\n",
    "# First: the built-in round function has confusing behavior when rounding 0.5.\n",
    "# Use our function roundHalfUp to fix this.\n",
    "\n",
    "def roundHalfUp(d):\n",
    "    # Round to nearest with ties going away from zero.\n",
    "    # You do not need to understand how this function works.\n",
    "    import decimal\n",
    "    rounding = decimal.ROUND_HALF_UP\n",
    "    return int(decimal.Decimal(d).to_integral_value(rounding=rounding))\n",
    "\n",
    "print(round(0.5)) # This evaluates to 0 - what!\n",
    "print(round(1.5)) # And this will be 2 - so confusing!\n",
    "print(roundHalfUp(0.5)) # Now this will always round 0.5 up (to 1)\n",
    "print(roundHalfUp(1.5)) # This still rounds up too!\n",
    "\n",
    "# Second: when comparing floats, == doesn't work quite right.\n",
    "# Use almostEqual to compare floats instead\n",
    "\n",
    "print(0.1 + 0.1 == 0.2) # True, but...\n",
    "d1 = 0.1 + 0.1 + 0.1\n",
    "d2 = 0.3\n",
    "print(d1 == d2) # False!\n",
    "print(d1)       # prints 0.30000000000000004 (uh oh)\n",
    "print(d1 - d2)  # prints 5.55111512313e-17 (tiny, but non-zero!)\n",
    "# Moral: never use == with floats!\n",
    "\n",
    "# Python includes a builtin function math.isclose(), but that function\n",
    "# has some confusing behavior when comparing values close to 0.\n",
    "# Instead, let's just make our own version of isclose:\n",
    "\n",
    "def almostEqual(x, y):\n",
    "    return abs(x - y) < 10**-9\n",
    "\n",
    "# This will now work properly!\n",
    "print(almostEqual(0, 0.0000000000001))\n",
    "print(almostEqual(d1, d2))"
   ]
  },
  {
   "cell_type": "code",
   "execution_count": 10,
   "id": "ef6760a4",
   "metadata": {},
   "outputs": [
    {
     "data": {
      "text/plain": [
       "-11"
      ]
     },
     "execution_count": 10,
     "metadata": {},
     "output_type": "execute_result"
    }
   ],
   "source": [
    "roundHalfUp(-10.5)"
   ]
  },
  {
   "cell_type": "code",
   "execution_count": null,
   "id": "87109506",
   "metadata": {},
   "outputs": [],
   "source": [
    "def nearestOdd(n):\n",
    "    if n > 0:\n",
    "        if roundHalfUp(n) % 2 == 0:\n",
    "            a = roundHalfUp(n)-1\n",
    "        else:\n",
    "            a = roundHalfUp(n)\n",
    "    elif n < 0:\n",
    "        if roundHalfUp(n) % -2 == 0:\n",
    "            a = roundHalfUp(n)+1\n",
    "        else:\n",
    "            a = roundHalfUp(n)\n",
    "    else:\n",
    "        a = 0\n",
    "\n",
    "    return a"
   ]
  },
  {
   "cell_type": "code",
   "execution_count": 31,
   "id": "18c4baf9",
   "metadata": {},
   "outputs": [
    {
     "data": {
      "text/plain": [
       "1"
      ]
     },
     "execution_count": 31,
     "metadata": {},
     "output_type": "execute_result"
    }
   ],
   "source": [
    "nearestOdd(1.5)"
   ]
  },
  {
   "cell_type": "code",
   "execution_count": 32,
   "id": "fa3c6b0e",
   "metadata": {},
   "outputs": [
    {
     "data": {
      "text/plain": [
       "-1"
      ]
     },
     "execution_count": 32,
     "metadata": {},
     "output_type": "execute_result"
    }
   ],
   "source": [
    "nearestOdd(-1.5)"
   ]
  },
  {
   "cell_type": "code",
   "execution_count": 33,
   "id": "949a2e3b",
   "metadata": {},
   "outputs": [
    {
     "data": {
      "text/plain": [
       "3"
      ]
     },
     "execution_count": 33,
     "metadata": {},
     "output_type": "execute_result"
    }
   ],
   "source": [
    "nearestOdd(2.5)"
   ]
  },
  {
   "cell_type": "code",
   "execution_count": 34,
   "id": "92429400",
   "metadata": {},
   "outputs": [
    {
     "data": {
      "text/plain": [
       "-3"
      ]
     },
     "execution_count": 34,
     "metadata": {},
     "output_type": "execute_result"
    }
   ],
   "source": [
    "nearestOdd(-2.5)"
   ]
  },
  {
   "cell_type": "code",
   "execution_count": null,
   "id": "0bc81bd1",
   "metadata": {},
   "outputs": [],
   "source": [
    "def isPerfectSquare(n):\n",
    "    n_sq = math.sqrt(n)\n",
    "    if n < 0:\n",
    "        return False\n",
    "    elif n_sq == int(n_sq):\n",
    "        return True\n",
    "    else:\n",
    "        return False"
   ]
  },
  {
   "cell_type": "code",
   "execution_count": 55,
   "id": "7bf3d195",
   "metadata": {},
   "outputs": [
    {
     "data": {
      "text/plain": [
       "True"
      ]
     },
     "execution_count": 55,
     "metadata": {},
     "output_type": "execute_result"
    }
   ],
   "source": [
    "isPerfectSquare(0)"
   ]
  },
  {
   "cell_type": "code",
   "execution_count": 74,
   "id": "ba9aa17b",
   "metadata": {},
   "outputs": [],
   "source": [
    "def numberOfPoolBallRows(balls):\n",
    "    c = -2*balls\n",
    "    n_1 = (-1+math.sqrt(1-(4*1*c)))/2*1\n",
    "    n_2 = (-1-math.sqrt(1-(4*1*c)))/2*1\n",
    "\n",
    "    if n_1 >= 0:\n",
    "        return int(n_1)\n",
    "    else:\n",
    "        return int(n_2)\n"
   ]
  },
  {
   "cell_type": "code",
   "execution_count": 76,
   "id": "eec2a0ea",
   "metadata": {},
   "outputs": [
    {
     "data": {
      "text/plain": [
       "5"
      ]
     },
     "execution_count": 76,
     "metadata": {},
     "output_type": "execute_result"
    }
   ],
   "source": [
    "numberOfPoolBallRows(15)"
   ]
  },
  {
   "cell_type": "code",
   "execution_count": null,
   "id": "30db8e10",
   "metadata": {},
   "outputs": [],
   "source": []
  }
 ],
 "metadata": {
  "kernelspec": {
   "display_name": "Python 3",
   "language": "python",
   "name": "python3"
  },
  "language_info": {
   "codemirror_mode": {
    "name": "ipython",
    "version": 3
   },
   "file_extension": ".py",
   "mimetype": "text/x-python",
   "name": "python",
   "nbconvert_exporter": "python",
   "pygments_lexer": "ipython3",
   "version": "3.12.5"
  }
 },
 "nbformat": 4,
 "nbformat_minor": 5
}
