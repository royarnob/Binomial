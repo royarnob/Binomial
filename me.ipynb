{
 "cells": [
  {
   "cell_type": "markdown",
   "metadata": {},
   "source": [
    "#### **GDP Deflator**\n",
    "\n",
    "A measure of inflation in the price of goods and services produced within a country, including exported goods.\n",
    "\n",
    "*Inflation calculated by total domestic consumption.*\n",
    "\n",
    "$$\n",
    "\\text{GDP Price Deflator}=\\frac{\\text{Nominal GDP}}{\\text{Real GDP}}\n",
    "$$"
   ]
  },
  {
   "cell_type": "markdown",
   "metadata": {},
   "source": [
    "| Year | Nominal GDP | Tax Revenues | Government Outlays | Consumption Spending | Population | GDP Deflator |\n",
    "|------|-------------|--------------|---------------------|-----------------------|------------|--------------|\n",
    "| 2011 | $150,000    | $25,000      | $25,000             | $75,000               | 100        | 100          |\n",
    "| 2012 | $225,000    | $30,000      | $35,000             | $100,000              | 120        | 125          |\n"
   ]
  },
  {
   "cell_type": "markdown",
   "metadata": {},
   "source": [
    "FR.\n",
    "a.i.\n",
    "\n",
    "Calculate rGDP in 2012:\n",
    "\n",
    "$$\n",
    "\\text{Real GDP}=\\frac{\\text{Nominal GDP}}{\\text{GDP Price Deflator}}\n",
    "$$"
   ]
  },
  {
   "cell_type": "code",
   "execution_count": null,
   "metadata": {},
   "outputs": [
    {
     "data": {
      "text/plain": [
       "1800.0"
      ]
     },
     "execution_count": 1,
     "metadata": {},
     "output_type": "execute_result"
    }
   ],
   "source": [
    "225000/125"
   ]
  },
  {
   "cell_type": "code",
   "execution_count": null,
   "metadata": {},
   "outputs": [],
   "source": []
  }
 ],
 "metadata": {
  "kernelspec": {
   "display_name": "Python 3",
   "language": "python",
   "name": "python3"
  },
  "language_info": {
   "codemirror_mode": {
    "name": "ipython",
    "version": 3
   },
   "file_extension": ".py",
   "mimetype": "text/x-python",
   "name": "python",
   "nbconvert_exporter": "python",
   "pygments_lexer": "ipython3",
   "version": "3.12.5"
  }
 },
 "nbformat": 4,
 "nbformat_minor": 2
}
